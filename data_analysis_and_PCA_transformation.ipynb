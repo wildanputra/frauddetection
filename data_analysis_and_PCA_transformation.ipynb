{
  "nbformat": 4,
  "nbformat_minor": 0,
  "metadata": {
    "colab": {
      "name": "data analysis and PCA transformation.ipynb",
      "provenance": [],
      "include_colab_link": true
    },
    "kernelspec": {
      "name": "python3",
      "display_name": "Python 3"
    }
  },
  "cells": [
    {
      "cell_type": "markdown",
      "metadata": {
        "id": "view-in-github",
        "colab_type": "text"
      },
      "source": [
        "<a href=\"https://colab.research.google.com/github/wildanputra/frauddetection/blob/master/data_analysis_and_PCA_transformation.ipynb\" target=\"_parent\"><img src=\"https://colab.research.google.com/assets/colab-badge.svg\" alt=\"Open In Colab\"/></a>"
      ]
    },
    {
      "cell_type": "markdown",
      "metadata": {
        "id": "86UJUZ91dVOM",
        "colab_type": "text"
      },
      "source": [
        "# Content"
      ]
    },
    {
      "cell_type": "markdown",
      "metadata": {
        "id": "aF7F25s5erd_",
        "colab_type": "text"
      },
      "source": [
        "## Objective:\n",
        "\n",
        "*   To detect fraudulent credit card transactions and\n",
        "*   To understand how to work with imbalanced dataset."
      ]
    },
    {
      "cell_type": "markdown",
      "metadata": {
        "id": "emFq0aIHdjuU",
        "colab_type": "text"
      },
      "source": [
        "## Dataset :\n",
        "Sources : https://www.kaggle.com/mlg-ulb/creditcardfraud/\n",
        "\n",
        "The datasets contains transactions made by credit cards in September 2013 by european cardholders. This dataset presents transactions that occurred in two days, where we have 492 frauds out of 284,807 transactions. The dataset is highly unbalanced, the positive class (frauds) account for 0.172% of all transactions.\n",
        "\n",
        "It contains only numerical input variables which are the result of a PCA transformation. Unfortunately, due to confidentiality issues, we cannot provide the original features and more background information about the data. Features V1, V2, ... V28 are the principal components obtained with PCA, the only features which have not been transformed with PCA are 'Time' and 'Amount'. Feature 'Time' contains the seconds elapsed between each transaction and the first transaction in the dataset. The feature 'Amount' is the transaction Amount, this feature can be used for example-dependant cost-senstive learning. Feature 'Class' is the response variable and it takes value 1 in case of fraud and 0 otherwise. "
      ]
    },
    {
      "cell_type": "markdown",
      "metadata": {
        "id": "f3wKK-31dosd",
        "colab_type": "text"
      },
      "source": [
        "# Data Exploration"
      ]
    },
    {
      "cell_type": "markdown",
      "metadata": {
        "id": "z7vrjsBkfA4g",
        "colab_type": "text"
      },
      "source": [
        "## import important modules"
      ]
    },
    {
      "cell_type": "code",
      "metadata": {
        "id": "2DgOZ4r3fD9N",
        "colab_type": "code",
        "colab": {}
      },
      "source": [
        "import numpy as np \n",
        "import pandas as pd \n",
        "import matplotlib.pyplot as plt\n",
        "import seaborn as sns\n",
        "%matplotlib inline"
      ],
      "execution_count": 0,
      "outputs": []
    },
    {
      "cell_type": "markdown",
      "metadata": {
        "id": "yPssh0Psd2G_",
        "colab_type": "text"
      },
      "source": [
        "## Mounting dataset from gdrive"
      ]
    },
    {
      "cell_type": "code",
      "metadata": {
        "id": "XGPQcROldmjV",
        "colab_type": "code",
        "colab": {
          "base_uri": "https://localhost:8080/",
          "height": 35
        },
        "outputId": "81a8466c-95c9-4248-a292-3e4e5c16370b"
      },
      "source": [
        "from google.colab import drive\n",
        "drive.mount('/content/drive')"
      ],
      "execution_count": 9,
      "outputs": [
        {
          "output_type": "stream",
          "text": [
            "Drive already mounted at /content/drive; to attempt to forcibly remount, call drive.mount(\"/content/drive\", force_remount=True).\n"
          ],
          "name": "stdout"
        }
      ]
    },
    {
      "cell_type": "code",
      "metadata": {
        "id": "8brbOQqTd5Y_",
        "colab_type": "code",
        "colab": {}
      },
      "source": [
        "dataset = '/content/drive/My Drive/fraud/creditcard.csv'"
      ],
      "execution_count": 0,
      "outputs": []
    },
    {
      "cell_type": "code",
      "metadata": {
        "id": "lZW8g6B8eEcc",
        "colab_type": "code",
        "colab": {
          "base_uri": "https://localhost:8080/",
          "height": 226
        },
        "outputId": "dd0bf081-dad0-4078-a0d6-cd4f9c44dbc6"
      },
      "source": [
        "df = pd.read_csv(dataset)\n",
        "df.head()"
      ],
      "execution_count": 21,
      "outputs": [
        {
          "output_type": "execute_result",
          "data": {
            "text/html": [
              "<div>\n",
              "<style scoped>\n",
              "    .dataframe tbody tr th:only-of-type {\n",
              "        vertical-align: middle;\n",
              "    }\n",
              "\n",
              "    .dataframe tbody tr th {\n",
              "        vertical-align: top;\n",
              "    }\n",
              "\n",
              "    .dataframe thead th {\n",
              "        text-align: right;\n",
              "    }\n",
              "</style>\n",
              "<table border=\"1\" class=\"dataframe\">\n",
              "  <thead>\n",
              "    <tr style=\"text-align: right;\">\n",
              "      <th></th>\n",
              "      <th>Time</th>\n",
              "      <th>V1</th>\n",
              "      <th>V2</th>\n",
              "      <th>V3</th>\n",
              "      <th>V4</th>\n",
              "      <th>V5</th>\n",
              "      <th>V6</th>\n",
              "      <th>V7</th>\n",
              "      <th>V8</th>\n",
              "      <th>V9</th>\n",
              "      <th>V10</th>\n",
              "      <th>V11</th>\n",
              "      <th>V12</th>\n",
              "      <th>V13</th>\n",
              "      <th>V14</th>\n",
              "      <th>V15</th>\n",
              "      <th>V16</th>\n",
              "      <th>V17</th>\n",
              "      <th>V18</th>\n",
              "      <th>V19</th>\n",
              "      <th>V20</th>\n",
              "      <th>V21</th>\n",
              "      <th>V22</th>\n",
              "      <th>V23</th>\n",
              "      <th>V24</th>\n",
              "      <th>V25</th>\n",
              "      <th>V26</th>\n",
              "      <th>V27</th>\n",
              "      <th>V28</th>\n",
              "      <th>Amount</th>\n",
              "      <th>Class</th>\n",
              "    </tr>\n",
              "  </thead>\n",
              "  <tbody>\n",
              "    <tr>\n",
              "      <th>0</th>\n",
              "      <td>0.0</td>\n",
              "      <td>-1.359807</td>\n",
              "      <td>-0.072781</td>\n",
              "      <td>2.536347</td>\n",
              "      <td>1.378155</td>\n",
              "      <td>-0.338321</td>\n",
              "      <td>0.462388</td>\n",
              "      <td>0.239599</td>\n",
              "      <td>0.098698</td>\n",
              "      <td>0.363787</td>\n",
              "      <td>0.090794</td>\n",
              "      <td>-0.551600</td>\n",
              "      <td>-0.617801</td>\n",
              "      <td>-0.991390</td>\n",
              "      <td>-0.311169</td>\n",
              "      <td>1.468177</td>\n",
              "      <td>-0.470401</td>\n",
              "      <td>0.207971</td>\n",
              "      <td>0.025791</td>\n",
              "      <td>0.403993</td>\n",
              "      <td>0.251412</td>\n",
              "      <td>-0.018307</td>\n",
              "      <td>0.277838</td>\n",
              "      <td>-0.110474</td>\n",
              "      <td>0.066928</td>\n",
              "      <td>0.128539</td>\n",
              "      <td>-0.189115</td>\n",
              "      <td>0.133558</td>\n",
              "      <td>-0.021053</td>\n",
              "      <td>149.62</td>\n",
              "      <td>0</td>\n",
              "    </tr>\n",
              "    <tr>\n",
              "      <th>1</th>\n",
              "      <td>0.0</td>\n",
              "      <td>1.191857</td>\n",
              "      <td>0.266151</td>\n",
              "      <td>0.166480</td>\n",
              "      <td>0.448154</td>\n",
              "      <td>0.060018</td>\n",
              "      <td>-0.082361</td>\n",
              "      <td>-0.078803</td>\n",
              "      <td>0.085102</td>\n",
              "      <td>-0.255425</td>\n",
              "      <td>-0.166974</td>\n",
              "      <td>1.612727</td>\n",
              "      <td>1.065235</td>\n",
              "      <td>0.489095</td>\n",
              "      <td>-0.143772</td>\n",
              "      <td>0.635558</td>\n",
              "      <td>0.463917</td>\n",
              "      <td>-0.114805</td>\n",
              "      <td>-0.183361</td>\n",
              "      <td>-0.145783</td>\n",
              "      <td>-0.069083</td>\n",
              "      <td>-0.225775</td>\n",
              "      <td>-0.638672</td>\n",
              "      <td>0.101288</td>\n",
              "      <td>-0.339846</td>\n",
              "      <td>0.167170</td>\n",
              "      <td>0.125895</td>\n",
              "      <td>-0.008983</td>\n",
              "      <td>0.014724</td>\n",
              "      <td>2.69</td>\n",
              "      <td>0</td>\n",
              "    </tr>\n",
              "    <tr>\n",
              "      <th>2</th>\n",
              "      <td>1.0</td>\n",
              "      <td>-1.358354</td>\n",
              "      <td>-1.340163</td>\n",
              "      <td>1.773209</td>\n",
              "      <td>0.379780</td>\n",
              "      <td>-0.503198</td>\n",
              "      <td>1.800499</td>\n",
              "      <td>0.791461</td>\n",
              "      <td>0.247676</td>\n",
              "      <td>-1.514654</td>\n",
              "      <td>0.207643</td>\n",
              "      <td>0.624501</td>\n",
              "      <td>0.066084</td>\n",
              "      <td>0.717293</td>\n",
              "      <td>-0.165946</td>\n",
              "      <td>2.345865</td>\n",
              "      <td>-2.890083</td>\n",
              "      <td>1.109969</td>\n",
              "      <td>-0.121359</td>\n",
              "      <td>-2.261857</td>\n",
              "      <td>0.524980</td>\n",
              "      <td>0.247998</td>\n",
              "      <td>0.771679</td>\n",
              "      <td>0.909412</td>\n",
              "      <td>-0.689281</td>\n",
              "      <td>-0.327642</td>\n",
              "      <td>-0.139097</td>\n",
              "      <td>-0.055353</td>\n",
              "      <td>-0.059752</td>\n",
              "      <td>378.66</td>\n",
              "      <td>0</td>\n",
              "    </tr>\n",
              "    <tr>\n",
              "      <th>3</th>\n",
              "      <td>1.0</td>\n",
              "      <td>-0.966272</td>\n",
              "      <td>-0.185226</td>\n",
              "      <td>1.792993</td>\n",
              "      <td>-0.863291</td>\n",
              "      <td>-0.010309</td>\n",
              "      <td>1.247203</td>\n",
              "      <td>0.237609</td>\n",
              "      <td>0.377436</td>\n",
              "      <td>-1.387024</td>\n",
              "      <td>-0.054952</td>\n",
              "      <td>-0.226487</td>\n",
              "      <td>0.178228</td>\n",
              "      <td>0.507757</td>\n",
              "      <td>-0.287924</td>\n",
              "      <td>-0.631418</td>\n",
              "      <td>-1.059647</td>\n",
              "      <td>-0.684093</td>\n",
              "      <td>1.965775</td>\n",
              "      <td>-1.232622</td>\n",
              "      <td>-0.208038</td>\n",
              "      <td>-0.108300</td>\n",
              "      <td>0.005274</td>\n",
              "      <td>-0.190321</td>\n",
              "      <td>-1.175575</td>\n",
              "      <td>0.647376</td>\n",
              "      <td>-0.221929</td>\n",
              "      <td>0.062723</td>\n",
              "      <td>0.061458</td>\n",
              "      <td>123.50</td>\n",
              "      <td>0</td>\n",
              "    </tr>\n",
              "    <tr>\n",
              "      <th>4</th>\n",
              "      <td>2.0</td>\n",
              "      <td>-1.158233</td>\n",
              "      <td>0.877737</td>\n",
              "      <td>1.548718</td>\n",
              "      <td>0.403034</td>\n",
              "      <td>-0.407193</td>\n",
              "      <td>0.095921</td>\n",
              "      <td>0.592941</td>\n",
              "      <td>-0.270533</td>\n",
              "      <td>0.817739</td>\n",
              "      <td>0.753074</td>\n",
              "      <td>-0.822843</td>\n",
              "      <td>0.538196</td>\n",
              "      <td>1.345852</td>\n",
              "      <td>-1.119670</td>\n",
              "      <td>0.175121</td>\n",
              "      <td>-0.451449</td>\n",
              "      <td>-0.237033</td>\n",
              "      <td>-0.038195</td>\n",
              "      <td>0.803487</td>\n",
              "      <td>0.408542</td>\n",
              "      <td>-0.009431</td>\n",
              "      <td>0.798278</td>\n",
              "      <td>-0.137458</td>\n",
              "      <td>0.141267</td>\n",
              "      <td>-0.206010</td>\n",
              "      <td>0.502292</td>\n",
              "      <td>0.219422</td>\n",
              "      <td>0.215153</td>\n",
              "      <td>69.99</td>\n",
              "      <td>0</td>\n",
              "    </tr>\n",
              "  </tbody>\n",
              "</table>\n",
              "</div>"
            ],
            "text/plain": [
              "   Time        V1        V2        V3  ...       V27       V28  Amount  Class\n",
              "0   0.0 -1.359807 -0.072781  2.536347  ...  0.133558 -0.021053  149.62      0\n",
              "1   0.0  1.191857  0.266151  0.166480  ... -0.008983  0.014724    2.69      0\n",
              "2   1.0 -1.358354 -1.340163  1.773209  ... -0.055353 -0.059752  378.66      0\n",
              "3   1.0 -0.966272 -0.185226  1.792993  ...  0.062723  0.061458  123.50      0\n",
              "4   2.0 -1.158233  0.877737  1.548718  ...  0.219422  0.215153   69.99      0\n",
              "\n",
              "[5 rows x 31 columns]"
            ]
          },
          "metadata": {
            "tags": []
          },
          "execution_count": 21
        }
      ]
    },
    {
      "cell_type": "markdown",
      "metadata": {
        "id": "22Mf4n4hgW1H",
        "colab_type": "text"
      },
      "source": [
        "## Descriptive statistics on the data"
      ]
    },
    {
      "cell_type": "code",
      "metadata": {
        "id": "k8PR3OTkfT3O",
        "colab_type": "code",
        "colab": {
          "base_uri": "https://localhost:8080/",
          "height": 990
        },
        "outputId": "ab5e0d13-9cd7-424d-dd6f-04cab29bf9d4"
      },
      "source": [
        "print(\"Time\")\n",
        "print(df.Time.describe())\n",
        "print(\"V1\")\n",
        "print(df.Time.describe())\n",
        "print(\"Amount\")\n",
        "print(df.Amount.describe())\n",
        "print(\"Class\")\n",
        "print(df.Class.describe())\n",
        "print(df.Class.nunique())\n",
        "print(\"ALL\")\n",
        "print(df.describe())"
      ],
      "execution_count": 29,
      "outputs": [
        {
          "output_type": "display_data",
          "data": {
            "application/javascript": [
              "google.colab.output.setIframeHeight(0, true, {maxHeight: 5000})"
            ],
            "text/plain": [
              "<IPython.core.display.Javascript object>"
            ]
          },
          "metadata": {
            "tags": []
          }
        },
        {
          "output_type": "stream",
          "text": [
            "Time\n",
            "count    284807.000000\n",
            "mean      94813.859575\n",
            "std       47488.145955\n",
            "min           0.000000\n",
            "25%       54201.500000\n",
            "50%       84692.000000\n",
            "75%      139320.500000\n",
            "max      172792.000000\n",
            "Name: Time, dtype: float64\n",
            "V1\n",
            "count    284807.000000\n",
            "mean      94813.859575\n",
            "std       47488.145955\n",
            "min           0.000000\n",
            "25%       54201.500000\n",
            "50%       84692.000000\n",
            "75%      139320.500000\n",
            "max      172792.000000\n",
            "Name: Time, dtype: float64\n",
            "Amount\n",
            "count    284807.000000\n",
            "mean         88.349619\n",
            "std         250.120109\n",
            "min           0.000000\n",
            "25%           5.600000\n",
            "50%          22.000000\n",
            "75%          77.165000\n",
            "max       25691.160000\n",
            "Name: Amount, dtype: float64\n",
            "Class\n",
            "count    284807.000000\n",
            "mean          0.001727\n",
            "std           0.041527\n",
            "min           0.000000\n",
            "25%           0.000000\n",
            "50%           0.000000\n",
            "75%           0.000000\n",
            "max           1.000000\n",
            "Name: Class, dtype: float64\n",
            "2\n",
            "ALL\n",
            "                Time            V1  ...         Amount          Class\n",
            "count  284807.000000  2.848070e+05  ...  284807.000000  284807.000000\n",
            "mean    94813.859575  3.919560e-15  ...      88.349619       0.001727\n",
            "std     47488.145955  1.958696e+00  ...     250.120109       0.041527\n",
            "min         0.000000 -5.640751e+01  ...       0.000000       0.000000\n",
            "25%     54201.500000 -9.203734e-01  ...       5.600000       0.000000\n",
            "50%     84692.000000  1.810880e-02  ...      22.000000       0.000000\n",
            "75%    139320.500000  1.315642e+00  ...      77.165000       0.000000\n",
            "max    172792.000000  2.454930e+00  ...   25691.160000       1.000000\n",
            "\n",
            "[8 rows x 31 columns]\n"
          ],
          "name": "stdout"
        }
      ]
    },
    {
      "cell_type": "markdown",
      "metadata": {
        "id": "TPRaISqjhb5q",
        "colab_type": "text"
      },
      "source": [
        "## Use Histogram to visualize"
      ]
    },
    {
      "cell_type": "code",
      "metadata": {
        "id": "wgOYmGTOgAog",
        "colab_type": "code",
        "colab": {
          "base_uri": "https://localhost:8080/",
          "height": 283
        },
        "outputId": "209481f3-c9ff-4cec-86f2-54fc481f9138"
      },
      "source": [
        "df.Time.hist()"
      ],
      "execution_count": 30,
      "outputs": [
        {
          "output_type": "execute_result",
          "data": {
            "text/plain": [
              "<matplotlib.axes._subplots.AxesSubplot at 0x7f3b527a5ba8>"
            ]
          },
          "metadata": {
            "tags": []
          },
          "execution_count": 30
        },
        {
          "output_type": "display_data",
          "data": {
            "image/png": "[encoded data removed]",
            "text/plain": [
              "<Figure size 432x288 with 1 Axes>"
            ]
          },
          "metadata": {
            "tags": []
          }
        }
      ]
    },
    {
      "cell_type": "code",
      "metadata": {
        "id": "frYQK7Zhil19",
        "colab_type": "code",
        "colab": {
          "base_uri": "https://localhost:8080/",
          "height": 283
        },
        "outputId": "a272e877-e944-4b88-e36c-1c3c172ff864"
      },
      "source": [
        "df.Class.hist()"
      ],
      "execution_count": 31,
      "outputs": [
        {
          "output_type": "execute_result",
          "data": {
            "text/plain": [
              "<matplotlib.axes._subplots.AxesSubplot at 0x7f3b5d90b940>"
            ]
          },
          "metadata": {
            "tags": []
          },
          "execution_count": 31
        },
        {
          "output_type": "display_data",
          "data": {
            "image/png": "[encoded data removed]",
            "text/plain": [
              "<Figure size 432x288 with 1 Axes>"
            ]
          },
          "metadata": {
            "tags": []
          }
        }
      ]
    },
    {
      "cell_type": "code",
      "metadata": {
        "id": "gEFtucYEipYC",
        "colab_type": "code",
        "colab": {
          "base_uri": "https://localhost:8080/",
          "height": 356
        },
        "outputId": "e0440dc5-f3f3-40df-d12a-00195f4bd739"
      },
      "source": [
        "df['Amount'].hist(by=df['Class'])"
      ],
      "execution_count": 32,
      "outputs": [
        {
          "output_type": "execute_result",
          "data": {
            "text/plain": [
              "array([<matplotlib.axes._subplots.AxesSubplot object at 0x7f3b521a52b0>,\n",
              "       <matplotlib.axes._subplots.AxesSubplot object at 0x7f3b521d4e80>],\n",
              "      dtype=object)"
            ]
          },
          "metadata": {
            "tags": []
          },
          "execution_count": 32
        },
        {
          "output_type": "display_data",
          "data": {
            "image/png": "[encoded data removed]",
            "text/plain": [
              "<Figure size 432x288 with 2 Axes>"
            ]
          },
          "metadata": {
            "tags": []
          }
        }
      ]
    },
    {
      "cell_type": "code",
      "metadata": {
        "id": "mbumSFSJisC-",
        "colab_type": "code",
        "colab": {
          "base_uri": "https://localhost:8080/",
          "height": 90
        },
        "outputId": "598f948f-0954-4133-ae7d-887de9dabf93"
      },
      "source": [
        "print(df.groupby('Class').size())"
      ],
      "execution_count": 33,
      "outputs": [
        {
          "output_type": "stream",
          "text": [
            "Class\n",
            "0    284315\n",
            "1       492\n",
            "dtype: int64\n"
          ],
          "name": "stdout"
        }
      ]
    },
    {
      "cell_type": "code",
      "metadata": {
        "id": "xVl45HzyivNn",
        "colab_type": "code",
        "colab": {
          "base_uri": "https://localhost:8080/",
          "height": 1000
        },
        "outputId": "0e5a3279-2ce0-4ee4-a9d0-4de41748d091"
      },
      "source": [
        "df.hist(figsize=(15,15))"
      ],
      "execution_count": 34,
      "outputs": [
        {
          "output_type": "execute_result",
          "data": {
            "text/plain": [
              "array([[<matplotlib.axes._subplots.AxesSubplot object at 0x7f3b520a9d30>,\n",
              "        <matplotlib.axes._subplots.AxesSubplot object at 0x7f3b520c5358>,\n",
              "        <matplotlib.axes._subplots.AxesSubplot object at 0x7f3b52075908>,\n",
              "        <matplotlib.axes._subplots.AxesSubplot object at 0x7f3b52026eb8>,\n",
              "        <matplotlib.axes._subplots.AxesSubplot object at 0x7f3b51fe34a8>,\n",
              "        <matplotlib.axes._subplots.AxesSubplot object at 0x7f3b52015a58>],\n",
              "       [<matplotlib.axes._subplots.AxesSubplot object at 0x7f3b51fd4048>,\n",
              "        <matplotlib.axes._subplots.AxesSubplot object at 0x7f3b51f83630>,\n",
              "        <matplotlib.axes._subplots.AxesSubplot object at 0x7f3b51f83668>,\n",
              "        <matplotlib.axes._subplots.AxesSubplot object at 0x7f3b51ef2198>,\n",
              "        <matplotlib.axes._subplots.AxesSubplot object at 0x7f3b51ea2748>,\n",
              "        <matplotlib.axes._subplots.AxesSubplot object at 0x7f3b51ed3cf8>],\n",
              "       [<matplotlib.axes._subplots.AxesSubplot object at 0x7f3b51e932e8>,\n",
              "        <matplotlib.axes._subplots.AxesSubplot object at 0x7f3b51e42898>,\n",
              "        <matplotlib.axes._subplots.AxesSubplot object at 0x7f3b51df7e48>,\n",
              "        <matplotlib.axes._subplots.AxesSubplot object at 0x7f3b51db5438>,\n",
              "        <matplotlib.axes._subplots.AxesSubplot object at 0x7f3b51d639e8>,\n",
              "        <matplotlib.axes._subplots.AxesSubplot object at 0x7f3b51d96f98>],\n",
              "       [<matplotlib.axes._subplots.AxesSubplot object at 0x7f3b51d52588>,\n",
              "        <matplotlib.axes._subplots.AxesSubplot object at 0x7f3b51d02b38>,\n",
              "        <matplotlib.axes._subplots.AxesSubplot object at 0x7f3b51cc3128>,\n",
              "        <matplotlib.axes._subplots.AxesSubplot object at 0x7f3b51c726d8>,\n",
              "        <matplotlib.axes._subplots.AxesSubplot object at 0x7f3b51c23c88>,\n",
              "        <matplotlib.axes._subplots.AxesSubplot object at 0x7f3b51be2278>],\n",
              "       [<matplotlib.axes._subplots.AxesSubplot object at 0x7f3b51c11828>,\n",
              "        <matplotlib.axes._subplots.AxesSubplot object at 0x7f3b51bc3dd8>,\n",
              "        <matplotlib.axes._subplots.AxesSubplot object at 0x7f3b51b823c8>,\n",
              "        <matplotlib.axes._subplots.AxesSubplot object at 0x7f3b51b30978>,\n",
              "        <matplotlib.axes._subplots.AxesSubplot object at 0x7f3b51ae5f28>,\n",
              "        <matplotlib.axes._subplots.AxesSubplot object at 0x7f3b51aa2518>],\n",
              "       [<matplotlib.axes._subplots.AxesSubplot object at 0x7f3b51ad1ac8>,\n",
              "        <matplotlib.axes._subplots.AxesSubplot object at 0x7f3b51a910b8>,\n",
              "        <matplotlib.axes._subplots.AxesSubplot object at 0x7f3b51a41668>,\n",
              "        <matplotlib.axes._subplots.AxesSubplot object at 0x7f3b519f1c18>,\n",
              "        <matplotlib.axes._subplots.AxesSubplot object at 0x7f3b519af208>,\n",
              "        <matplotlib.axes._subplots.AxesSubplot object at 0x7f3b519607b8>]],\n",
              "      dtype=object)"
            ]
          },
          "metadata": {
            "tags": []
          },
          "execution_count": 34
        },
        {
          "output_type": "display_data",
          "data": {
            "image/png": "[encoded data removed]",
            "text/plain": [
              "<Figure size 1080x1080 with 36 Axes>"
            ]
          },
          "metadata": {
            "tags": []
          }
        }
      ]
    },
    {
      "cell_type": "markdown",
      "metadata": {
        "id": "1ZcnTj2ojIRu",
        "colab_type": "text"
      },
      "source": [
        "## Check the spread of fraud vs non-fraud on selected variables\n",
        "This is done to identify variables selection which has good spread of frauds and non frauds"
      ]
    },
    {
      "cell_type": "code",
      "metadata": {
        "id": "0iNSqFAHjHnQ",
        "colab_type": "code",
        "colab": {
          "base_uri": "https://localhost:8080/",
          "height": 302
        },
        "outputId": "8e7be84d-068f-41ca-bc8f-ed683c9930da"
      },
      "source": [
        "sample = df[df['Class']==0]\n",
        "fraud = df[df['Class']==1]\n",
        "print('V1 - V2')\n",
        "plt.scatter(fraud['V1'], fraud['V2'],s=1, color='r')\n",
        "plt.scatter(sample['V1'], sample['V2'], s=1, color='g')\n",
        "plt.show()\n",
        "plt.clf()"
      ],
      "execution_count": 35,
      "outputs": [
        {
          "output_type": "stream",
          "text": [
            "V1 - V2\n"
          ],
          "name": "stdout"
        },
        {
          "output_type": "display_data",
          "data": {
            "image/png": "[encoded data removed]",
            "text/plain": [
              "<Figure size 432x288 with 1 Axes>"
            ]
          },
          "metadata": {
            "tags": []
          }
        },
        {
          "output_type": "display_data",
          "data": {
            "text/plain": [
              "<Figure size 432x288 with 0 Axes>"
            ]
          },
          "metadata": {
            "tags": []
          }
        }
      ]
    },
    {
      "cell_type": "code",
      "metadata": {
        "id": "2n735BUGj6Eu",
        "colab_type": "code",
        "colab": {
          "base_uri": "https://localhost:8080/",
          "height": 302
        },
        "outputId": "c75468f2-f0b0-4976-bb2e-76deba76ff9b"
      },
      "source": [
        "print('V1 - V3')\n",
        "plt.scatter(fraud['V1'], fraud['V3'],s=1, color='r')\n",
        "plt.scatter(sample['V1'], sample['V3'], s=1, color='g')\n",
        "plt.show()\n",
        "plt.clf()"
      ],
      "execution_count": 36,
      "outputs": [
        {
          "output_type": "stream",
          "text": [
            "V1 - V3\n"
          ],
          "name": "stdout"
        },
        {
          "output_type": "display_data",
          "data": {
            "image/png": "[encoded data removed]",
            "text/plain": [
              "<Figure size 432x288 with 1 Axes>"
            ]
          },
          "metadata": {
            "tags": []
          }
        },
        {
          "output_type": "display_data",
          "data": {
            "text/plain": [
              "<Figure size 432x288 with 0 Axes>"
            ]
          },
          "metadata": {
            "tags": []
          }
        }
      ]
    },
    {
      "cell_type": "code",
      "metadata": {
        "id": "j36NRF5nj92f",
        "colab_type": "code",
        "colab": {
          "base_uri": "https://localhost:8080/",
          "height": 302
        },
        "outputId": "b74c6e27-416f-4b47-a14b-4558b8b4b4d4"
      },
      "source": [
        "print('V1 - V4')\n",
        "plt.scatter(fraud['V1'], fraud['V4'],s=1, color='r')\n",
        "plt.scatter(sample['V1'], sample['V4'], s=1, color='g')\n",
        "plt.show()\n",
        "plt.clf()"
      ],
      "execution_count": 37,
      "outputs": [
        {
          "output_type": "stream",
          "text": [
            "V1 - V4\n"
          ],
          "name": "stdout"
        },
        {
          "output_type": "display_data",
          "data": {
            "image/png": "[encoded data removed]",
            "text/plain": [
              "<Figure size 432x288 with 1 Axes>"
            ]
          },
          "metadata": {
            "tags": []
          }
        },
        {
          "output_type": "display_data",
          "data": {
            "text/plain": [
              "<Figure size 432x288 with 0 Axes>"
            ]
          },
          "metadata": {
            "tags": []
          }
        }
      ]
    },
    {
      "cell_type": "markdown",
      "metadata": {
        "id": "zWQnZgcEkJE-",
        "colab_type": "text"
      },
      "source": [
        "## Split the data into train & test data sets using 70:30 mix\n",
        "The model will be built on training data and will be applied on the test data"
      ]
    },
    {
      "cell_type": "code",
      "metadata": {
        "id": "sLfE6Mw-kBy5",
        "colab_type": "code",
        "colab": {
          "base_uri": "https://localhost:8080/",
          "height": 90
        },
        "outputId": "26d41d71-419a-4f94-9061-5ccdad872960"
      },
      "source": [
        "# Split The Data with all variables\n",
        "\n",
        "from sklearn.model_selection import train_test_split\n",
        "\n",
        "x = df[['Time', 'V1', 'V2', 'V3', 'V4', 'V5', 'V6', 'V7', 'V8', 'V9', 'V10',\n",
        "       'V11', 'V12', 'V13', 'V14', 'V15', 'V16', 'V17', 'V18', 'V19', 'V20',\n",
        "       'V21', 'V22', 'V23', 'V24', 'V25', 'V26', 'V27', 'V28', 'Amount']]\n",
        "y = df['Class']\n",
        "\n",
        "xtrain, xtest, ytrain, ytest = train_test_split(x, y, test_size=0.30, random_state=0)\n",
        "print('xtrain shape')\n",
        "print(xtrain.shape)\n",
        "print('xtest shape')\n",
        "print(xtest.shape)"
      ],
      "execution_count": 38,
      "outputs": [
        {
          "output_type": "stream",
          "text": [
            "xtrain shape\n",
            "(199364, 30)\n",
            "xtest shape\n",
            "(85443, 30)\n"
          ],
          "name": "stdout"
        }
      ]
    },
    {
      "cell_type": "markdown",
      "metadata": {
        "id": "Rbs4Yhkyl0d2",
        "colab_type": "text"
      },
      "source": [
        "## Random Forest"
      ]
    },
    {
      "cell_type": "markdown",
      "metadata": {
        "id": "nE-vUCMUmABe",
        "colab_type": "text"
      },
      "source": [
        "## Smote"
      ]
    },
    {
      "cell_type": "markdown",
      "metadata": {
        "id": "o5j9ocysl2Te",
        "colab_type": "text"
      },
      "source": [
        "## XGboost"
      ]
    }
  ]
}